{
 "cells": [
  {
   "cell_type": "code",
   "execution_count": null,
   "metadata": {},
   "outputs": [],
   "source": [
    "import pandas as pd\n",
    "df=pd.read_csv('./age_mod.csv')\n",
    "df.head()\n",
    "df=df.drop(['Sex'],axis=1)\n",
    "from sklearn.svm import SVR\n",
    "regressor=SVR(kernel='linear',degree=1)\n",
    "import matplotlib.pyplot as plt\n",
    "plt.scatter(df['Shucked weight'],df['Age'])\n",
    "from sklearn.model_selection import train_test_split\n",
    "xtrain,xtest,ytrain,ytest=train_test_split(x,y)\n",
    "regressor.fit(xtrain,ytrain)\n",
    "pred=regressor.predict(xtest)\n",
    "print(regressor.score(xtest,ytest))\n",
    "from sklearn.metrics import r2_score\n",
    "print(r2_score(ytest,pred))\n",
    "regressor=SVR(kernel='rbf',epsilon=1.0)\n",
    "regressor.fit(xtrain,ytrain)\n",
    "pred=regressor.predict(xtest)\n",
    "print(regressor.score(xtest,ytest))\n",
    "print(r2_score(ytest,pred))\n"
   ]
  }
 ],
 "metadata": {
  "kernelspec": {
   "display_name": "Python 3",
   "language": "python",
   "name": "python3"
  },
  "language_info": {
   "codemirror_mode": {
    "name": "ipython",
    "version": 3
   },
   "file_extension": ".py",
   "mimetype": "text/x-python",
   "name": "python",
   "nbconvert_exporter": "python",
   "pygments_lexer": "ipython3",
   "version": "3.7.3"
  }
 },
 "nbformat": 4,
 "nbformat_minor": 2
}
