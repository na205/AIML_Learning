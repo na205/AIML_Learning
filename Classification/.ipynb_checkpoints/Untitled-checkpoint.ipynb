{
 "cells": [
  {
   "cell_type": "code",
   "execution_count": null,
   "metadata": {},
   "outputs": [],
   "source": [
    "import pandas\n",
    "import numpy as np\n",
    "#load csv file\n",
    "df=pandas.read_csv('./DataSet/HousePrice.csv')\n",
    "print(df.describe())\n",
    "df=df.drop(['Date'],axis=1)\n",
    "X=df[list(df.columns)[:-1]]\n",
    "Y=df[list(df.columns)[-1]]\n",
    "print(list(df.columns)[-1])\n",
    "#print(Y)\n",
    "from sklearn.model_selection import train_test_split\n",
    "xtrain,xtest,ytrain,ytest=train_test_split(X,Y,random_state=0)\n",
    "from sklearn.linear_model import LinearRegression\n",
    "reg=LinearRegression()\n",
    "reg.fit(xtrain,ytrain)\n",
    "print(list(reg.predict(xtrain))[:5])\n",
    "print(\"Accuracy Score:\",reg.score(xtest,ytest))"
   ]
  }
 ],
 "metadata": {
  "kernelspec": {
   "display_name": "Python 3",
   "language": "python",
   "name": "python3"
  }
 },
 "nbformat": 4,
 "nbformat_minor": 2
}
