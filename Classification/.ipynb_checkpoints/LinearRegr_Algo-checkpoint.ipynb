{
 "cells": [
  {
   "cell_type": "code",
   "execution_count": null,
   "metadata": {},
   "outputs": [],
   "source": [
    "import pandas\n",
    "df=pandas.read_csv('./DataSet/HousePrice.csv')\n",
    "df=df[['Price (Older)', 'Price (New)']]\n",
    "X=df[['Price (Older)']]\n",
    "Y=df[['Price (New)']]\n",
    "from sklearn.model_selection import train_test_split\n",
    "from sklearn.linear_model import LinearRegression\n",
    "xTrain,xTest,yTrain,yTest=train_test_split(X,Y)\n",
    "Lreg=LinearRegression().fit(xTrain,yTrain)\n",
    "#   formula=(W1*x+b)\n",
    "print('Coef(W1):',Lreg.coef_)\n",
    "print('Intercept(W0/b):',Lreg.intercept_)\n",
    "W1=Lreg.coef_\n",
    "b=Lreg.intercept_\n",
    "import matplotlib.pyplot as plt\n",
    "plt.scatter(X,Y)\n",
    "plt.plot(X,W1*X+b,'r-')\n",
    "plt.show()"
   ]
  }
 ],
 "metadata": {
  "kernelspec": {
   "display_name": "Python 3",
   "language": "python",
   "name": "python3"
  },
  "language_info": {
   "codemirror_mode": {
    "name": "ipython",
    "version": 3
   },
   "file_extension": ".py",
   "mimetype": "text/x-python",
   "name": "python",
   "nbconvert_exporter": "python",
   "pygments_lexer": "ipython3",
   "version": "3.7.3"
  }
 },
 "nbformat": 4,
 "nbformat_minor": 2
}
