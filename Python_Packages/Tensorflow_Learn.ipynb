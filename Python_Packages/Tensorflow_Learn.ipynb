{
 "cells": [
  {
   "cell_type": "code",
   "execution_count": 3,
   "metadata": {},
   "outputs": [
    {
     "name": "stdout",
     "output_type": "stream",
     "text": [
      "Multiplying a b: [ 2. 12.]\n"
     ]
    }
   ],
   "source": [
    "import tensorflow as tf\n",
    " \n",
    "# Creating placeholders\n",
    "a = tf.placeholder(tf.float32)\n",
    "b = tf.placeholder(tf.float32)\n",
    " \n",
    "# Assigning multiplication operation w.r.t. a &amp;amp; b to node mul\n",
    "mul = a*b\n",
    " \n",
    "# Create session object\n",
    "sess = tf.Session()\n",
    " \n",
    "# Executing mul by passing the values [1, 3] [2, 4] for a and b respectively\n",
    "output = sess.run(mul, {a: [1,3], b: [2, 4]})\n",
    "print('Multiplying a b:', output)"
   ]
  },
  {
   "cell_type": "code",
   "execution_count": 9,
   "metadata": {},
   "outputs": [
    {
     "name": "stdout",
     "output_type": "stream",
     "text": [
      "[0.         0.1        0.20000002 0.3        0.4        0.5\n",
      " 0.59999996]\n"
     ]
    }
   ],
   "source": [
    "w = tf.Variable([.4], dtype = tf.float32)\n",
    "b = tf.Variable([-.4], dtype = tf.float32)\n",
    "x = tf.placeholder(tf.float32)\n",
    "linear_model = w*x+b\n",
    "sess = tf.Session()\n",
    "init = tf.global_variables_initializer()\n",
    "sess.run(init)\n",
    "print(sess.run(linear_model, {x:[1,2,3,4,5,6,7]}))"
   ]
  },
  {
   "cell_type": "code",
   "execution_count": null,
   "metadata": {},
   "outputs": [],
   "source": []
  },
  {
   "cell_type": "code",
   "execution_count": null,
   "metadata": {},
   "outputs": [],
   "source": []
  }
 ],
 "metadata": {
  "kernelspec": {
   "display_name": "Python 3",
   "language": "python",
   "name": "python3"
  },
  "language_info": {
   "codemirror_mode": {
    "name": "ipython",
    "version": 3
   },
   "file_extension": ".py",
   "mimetype": "text/x-python",
   "name": "python",
   "nbconvert_exporter": "python",
   "pygments_lexer": "ipython3",
   "version": "3.7.3"
  }
 },
 "nbformat": 4,
 "nbformat_minor": 2
}
