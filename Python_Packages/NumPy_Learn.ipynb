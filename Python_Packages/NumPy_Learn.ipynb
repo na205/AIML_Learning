{
 "cells": [
  {
   "cell_type": "code",
   "execution_count": 1,
   "metadata": {},
   "outputs": [
    {
     "name": "stdout",
     "output_type": "stream",
     "text": [
      "[1 2 3]\n"
     ]
    }
   ],
   "source": [
    "# 1-D array\n",
    "\n",
    "import numpy as np\n",
    "a=np.array([1,2,3])\n",
    "print(a)"
   ]
  },
  {
   "cell_type": "code",
   "execution_count": 19,
   "metadata": {},
   "outputs": [
    {
     "name": "stdout",
     "output_type": "stream",
     "text": [
      "[[1 2 3]\n",
      " [4 5 6]]\n"
     ]
    }
   ],
   "source": [
    "# n-D array\n",
    "\n",
    "import numpy as np\n",
    "a=np.array([(1,2,3),(4,5,6)])\n",
    "print(a)"
   ]
  },
  {
   "cell_type": "code",
   "execution_count": 20,
   "metadata": {},
   "outputs": [
    {
     "name": "stdout",
     "output_type": "stream",
     "text": [
      "array size  28000\n",
      "numpy size  8000\n",
      "array operation time  181.58197402954102\n",
      "numpy operation time  48.30121994018555\n"
     ]
    }
   ],
   "source": [
    "\"\"\"We use python numpy array instead of a list because of the below three reasons:\n",
    "\n",
    "Less Memory\n",
    "Fast\n",
    "Convenient\"\"\"\n",
    "\n",
    "import numpy as np\n",
    " \n",
    "import time\n",
    "import sys\n",
    "\n",
    "S= range(1000)\n",
    "print(\"array size \",sys.getsizeof(5)*len(S))\n",
    " \n",
    "D= np.arange(1000)\n",
    "print(\"numpy size \", D.size*D.itemsize)\n",
    "\n",
    "import time\n",
    "import sys\n",
    " \n",
    "SIZE = 1000000\n",
    " \n",
    "L1= range(SIZE)\n",
    "L2= range(SIZE)\n",
    "A1= np.arange(SIZE)\n",
    "A2=np.arange(SIZE)\n",
    " \n",
    "start= time.time()\n",
    "result=[(x,y) for x,y in zip(L1,L2)]\n",
    "print(\"array operation time \",(time.time()-start)*1000)\n",
    " \n",
    "start=time.time()\n",
    "result= A1+A2\n",
    "print(\"numpy operation time \",(time.time()-start)*1000)\n"
   ]
  },
  {
   "cell_type": "code",
   "execution_count": 21,
   "metadata": {},
   "outputs": [
    {
     "name": "stdout",
     "output_type": "stream",
     "text": [
      "2\n"
     ]
    }
   ],
   "source": [
    "# find the dimension of array\n",
    "\n",
    "import numpy as np\n",
    "a = np.array([(1,2,3),(4,5,6)])\n",
    "print(a.ndim)"
   ]
  },
  {
   "cell_type": "code",
   "execution_count": 23,
   "metadata": {},
   "outputs": [
    {
     "name": "stdout",
     "output_type": "stream",
     "text": [
      "[[1 1]\n",
      " [1 1]]\n",
      "[0 0 0 0 0]\n",
      "[ 0  1  2  3  4  5  6  7  8  9 10 11 12 13 14 15 16 17 18 19 20 21 22 23]\n",
      "[10 12 14 16 18]\n",
      "[1.         1.02040816 1.04081633 1.06122449 1.08163265 1.10204082\n",
      " 1.12244898 1.14285714 1.16326531 1.18367347 1.20408163 1.2244898\n",
      " 1.24489796 1.26530612 1.28571429 1.30612245 1.32653061 1.34693878\n",
      " 1.36734694 1.3877551  1.40816327 1.42857143 1.44897959 1.46938776\n",
      " 1.48979592 1.51020408 1.53061224 1.55102041 1.57142857 1.59183673\n",
      " 1.6122449  1.63265306 1.65306122 1.67346939 1.69387755 1.71428571\n",
      " 1.73469388 1.75510204 1.7755102  1.79591837 1.81632653 1.83673469\n",
      " 1.85714286 1.87755102 1.89795918 1.91836735 1.93877551 1.95918367\n",
      " 1.97959184 2.        ]\n"
     ]
    }
   ],
   "source": [
    "# ones zeros and range\n",
    "\n",
    "import numpy as np \n",
    "x = np.ones([2,2], dtype = int) \n",
    "print(x)\n",
    "\n",
    "x = np.zeros((5,), dtype = np.int) \n",
    "print(x)\n",
    "\n",
    "a = np.arange(24) \n",
    "print (a)\n",
    "\n",
    "x = np.arange(10,20,2) \n",
    "print (x)\n",
    "\n",
    "import numpy as np \n",
    "x = np.linspace(1,2,50) \n",
    "print (x)"
   ]
  },
  {
   "cell_type": "code",
   "execution_count": 23,
   "metadata": {},
   "outputs": [
    {
     "name": "stdout",
     "output_type": "stream",
     "text": [
      "6\n",
      "(1, 6)\n"
     ]
    }
   ],
   "source": [
    "# size and shape of the array\n",
    "\n",
    "import numpy as np\n",
    "a = np.array([(1,2,3,4,5,6)])\n",
    "print(a.size)\n",
    "print(a.shape)"
   ]
  },
  {
   "cell_type": "code",
   "execution_count": 24,
   "metadata": {},
   "outputs": [
    {
     "name": "stdout",
     "output_type": "stream",
     "text": [
      "[[ 8  9 10]\n",
      " [11 12 13]]\n",
      "[[ 8  9]\n",
      " [10 11]\n",
      " [12 13]]\n"
     ]
    }
   ],
   "source": [
    "# reshape\n",
    "\n",
    "import numpy as np\n",
    "a = np.array([(8,9,10),(11,12,13)])\n",
    "print(a)\n",
    "a=a.reshape(3,2)\n",
    "print(a)"
   ]
  },
  {
   "cell_type": "code",
   "execution_count": 25,
   "metadata": {},
   "outputs": [
    {
     "name": "stdout",
     "output_type": "stream",
     "text": [
      "[[ 8  9  3]\n",
      " [10 11  2]\n",
      " [12 13 15]]\n",
      "[[ 8  9]\n",
      " [10 11]\n",
      " [12 13]]\n"
     ]
    }
   ],
   "source": [
    "# slice\n",
    "\n",
    "import numpy as np\n",
    "a=np.array([(8,9,3),(10,11,2),(12,13,15)])\n",
    "print(a)\n",
    "print(a[0:3,0:2])"
   ]
  },
  {
   "cell_type": "code",
   "execution_count": 11,
   "metadata": {},
   "outputs": [
    {
     "name": "stdout",
     "output_type": "stream",
     "text": [
      "[[0.33479036 0.00977801 0.02878925]\n",
      " [0.57694642 0.78073449 0.71904933]]\n"
     ]
    }
   ],
   "source": [
    "import numpy as np\n",
    "k = np.random.rand(2,3)\n",
    "print (k)"
   ]
  },
  {
   "cell_type": "code",
   "execution_count": 26,
   "metadata": {},
   "outputs": [
    {
     "name": "stdout",
     "output_type": "stream",
     "text": [
      "[[ 0  1  2  3]\n",
      " [ 4  5  6  7]\n",
      " [ 8  9 10 11]]\n"
     ]
    },
    {
     "data": {
      "text/plain": [
       "array([[ 0,  1,  2,  3],\n",
       "       [ 8,  9, 10, 11]])"
      ]
     },
     "execution_count": 26,
     "metadata": {},
     "output_type": "execute_result"
    }
   ],
   "source": [
    "#Boolean indexing\n",
    "\n",
    "a = np.arange(12).reshape(3, 4)\n",
    "print (a)\n",
    "rows_on = np.array([True, False, True])\n",
    "a[rows_on , : ]"
   ]
  },
  {
   "cell_type": "code",
   "execution_count": 29,
   "metadata": {},
   "outputs": [
    {
     "name": "stdout",
     "output_type": "stream",
     "text": [
      "Our array is:\n",
      "[[ 0  1  2]\n",
      " [ 3  4  5]\n",
      " [ 6  7  8]\n",
      " [ 9 10 11]]\n",
      "\n",
      "The corner elements of this array are:\n",
      "[[ 0  2]\n",
      " [ 9 11]]\n"
     ]
    }
   ],
   "source": [
    "# advanced slicing\n",
    "\n",
    "import numpy as np \n",
    "x = np.array([[ 0,  1,  2],[ 3,  4,  5],[ 6,  7,  8],[ 9, 10, 11]]) \n",
    "   \n",
    "print ('Our array is:')\n",
    "print (x) \n",
    "print ()\n",
    "\n",
    "rows = np.array([[0,0],[3,3]])\n",
    "cols = np.array([[0,2],[0,2]]) \n",
    "y = x[rows,cols] \n",
    "   \n",
    "print ('The corner elements of this array are:')\n",
    "print (y)"
   ]
  },
  {
   "cell_type": "code",
   "execution_count": 30,
   "metadata": {},
   "outputs": [
    {
     "name": "stdout",
     "output_type": "stream",
     "text": [
      "1\n",
      "3\n",
      "6\n",
      "\n",
      "[[1.         1.41421356 1.73205081]\n",
      " [1.73205081 2.         2.23606798]]\n",
      "1.2909944487358056\n"
     ]
    }
   ],
   "source": [
    "# min/max & std deviation\n",
    "\n",
    "import numpy as np\n",
    " \n",
    "a= np.array([1,2,3])\n",
    "print(a.min())\n",
    "print(a.max())\n",
    "print(a.sum())\n",
    "print()\n",
    "\n",
    "a=np.array([(1,2,3),(3,4,5,)])\n",
    "print(np.sqrt(a))\n",
    "print(np.std(a))"
   ]
  },
  {
   "cell_type": "code",
   "execution_count": 21,
   "metadata": {},
   "outputs": [
    {
     "name": "stdout",
     "output_type": "stream",
     "text": [
      "[[1 2 3]\n",
      " [3 4 5]\n",
      " [1 2 3]\n",
      " [3 4 5]]\n",
      "\n",
      "[[1 2 3 1 2 3]\n",
      " [3 4 5 3 4 5]]\n"
     ]
    }
   ],
   "source": [
    "# Vertical & Horizontal Stacking\n",
    "\n",
    "import numpy as np\n",
    "x= np.array([(1,2,3),(3,4,5)])\n",
    "y= np.array([(1,2,3),(3,4,5)])\n",
    "print(np.vstack((x,y)))\n",
    "print()\n",
    "print(np.hstack((x,y)))"
   ]
  },
  {
   "cell_type": "code",
   "execution_count": 32,
   "metadata": {},
   "outputs": [
    {
     "name": "stdout",
     "output_type": "stream",
     "text": [
      "First array:\n",
      "[[ 0.  0.  0.]\n",
      " [10. 10. 10.]\n",
      " [20. 20. 20.]\n",
      " [30. 30. 30.]]\n",
      "Second array:\n",
      "[1. 2. 3.]\n",
      "First Array + Second Array\n",
      "[[ 1.  2.  3.]\n",
      " [11. 12. 13.]\n",
      " [21. 22. 23.]\n",
      " [31. 32. 33.]]\n"
     ]
    }
   ],
   "source": [
    "# broadcasting- The smaller array is broadcast to the size of the larger array so that they have compatible shapes.\n",
    "\n",
    "import numpy as np \n",
    "a = np.array([[0.0,0.0,0.0],[10.0,10.0,10.0],[20.0,20.0,20.0],[30.0,30.0,30.0]]) \n",
    "b = np.array([1.0,2.0,3.0])  \n",
    "   \n",
    "print ('First array:') \n",
    "print (a)\n",
    "   \n",
    "print ('Second array:' )\n",
    "print (b) \n",
    "   \n",
    "print ('First Array + Second Array' )\n",
    "print (a + b)"
   ]
  },
  {
   "cell_type": "code",
   "execution_count": 33,
   "metadata": {},
   "outputs": [
    {
     "name": "stdout",
     "output_type": "stream",
     "text": [
      "Our array is:\n",
      "[[3 7 2]\n",
      " [9 1 4]]\n",
      "\n",
      "Applying sort() function:\n",
      "[[2 3 7]\n",
      " [1 4 9]]\n",
      "\n",
      "Sort along axis 0:\n",
      "[[3 1 2]\n",
      " [9 7 4]]\n",
      "\n",
      "Our array is:\n",
      "[(b'raju', 21) (b'anil', 25) (b'ravi', 17) (b'amar', 27)]\n",
      "\n",
      "Order by name:\n",
      "[(b'amar', 27) (b'anil', 25) (b'raju', 21) (b'ravi', 17)]\n",
      "\n"
     ]
    }
   ],
   "source": [
    "# sorting \n",
    "\n",
    "import numpy as np  \n",
    "a = np.array([[3,7,2],[9,1,4]]) \n",
    "\n",
    "print ('Our array is:')\n",
    "print (a) \n",
    "print ()\n",
    "\n",
    "print ('Applying sort() function:') \n",
    "print (np.sort(a) )\n",
    "print () \n",
    "  \n",
    "print ('Sort along axis 0:' )\n",
    "print (np.sort(a, axis = 0) )\n",
    "print ()\n",
    "\n",
    "# Order parameter in sort function \n",
    "dt = np.dtype([('name', 'S10'),('age', int)]) \n",
    "a = np.array([(\"raju\",21),(\"anil\",25),(\"ravi\", 17), (\"amar\",27)], dtype = dt) \n",
    "\n",
    "print ('Our array is:' )\n",
    "print (a)\n",
    "print ()  \n",
    "\n",
    "print ('Order by name:')\n",
    "print (np.sort(a, order = 'name'))\n",
    "print()"
   ]
  },
  {
   "cell_type": "code",
   "execution_count": 49,
   "metadata": {},
   "outputs": [
    {
     "name": "stdout",
     "output_type": "stream",
     "text": [
      "First array:\n",
      "[[ 0  1  2  3]\n",
      " [ 4  5  6  7]\n",
      " [ 8  9 10 11]\n",
      " [12 13 14 15]]\n",
      "\n",
      "\n",
      "Horizontal splitting:\n",
      "[array([[ 0,  1],\n",
      "       [ 4,  5],\n",
      "       [ 8,  9],\n",
      "       [12, 13]]), array([[ 2,  3],\n",
      "       [ 6,  7],\n",
      "       [10, 11],\n",
      "       [14, 15]])]\n",
      "\n",
      "Vertical splitting:\n",
      "[array([[0, 1, 2, 3],\n",
      "       [4, 5, 6, 7]]), array([[ 8,  9, 10, 11],\n",
      "       [12, 13, 14, 15]])]\n"
     ]
    }
   ],
   "source": [
    "# split hsplit vsplit\n",
    "\n",
    "import numpy as np \n",
    "a = np.arange(16).reshape(4,4) \n",
    "\n",
    "print ('First array:') \n",
    "print (a) \n",
    "print ('\\n')  \n",
    "\n",
    "print ('Horizontal splitting:') \n",
    "b = np.hsplit(a,2) \n",
    "print (b) \n",
    "print ()\n",
    "\n",
    "print ('Vertical splitting:') \n",
    "b = np.vsplit(a,2) \n",
    "print (b) "
   ]
  },
  {
   "cell_type": "code",
   "execution_count": 34,
   "metadata": {},
   "outputs": [
    {
     "name": "stdout",
     "output_type": "stream",
     "text": [
      "[[37 40]\n",
      " [85 92]]\n",
      "\n",
      "130\n",
      "\n",
      "[[1 2]\n",
      " [3 4]]\n",
      "[[-2.   1. ]\n",
      " [ 1.5 -0.5]]\n",
      "\n",
      "[[1 2]\n",
      " [3 4]]\n",
      "-2.0000000000000004\n",
      "\n",
      "[[ 6  1  1]\n",
      " [ 4 -2  5]\n",
      " [ 2  8  7]]\n",
      "-306.0\n"
     ]
    }
   ],
   "source": [
    "# Linear algebra\n",
    "\n",
    "#dot product of 2 matrices\n",
    "a = np.array([[1,2],[3,4]]) \n",
    "b = np.array([[11,12],[13,14]]) \n",
    "print (np.dot(a,b))\n",
    "\n",
    "print()\n",
    "\n",
    "# vdot product of 2 matrices\n",
    "a = np.array([[1,2],[3,4]]) \n",
    "b = np.array([[11,12],[13,14]]) \n",
    "print (np.vdot(a,b))\n",
    "\n",
    "print()\n",
    "\n",
    "# inverse of a matrix\n",
    "x = np.array([[1,2],[3,4]]) \n",
    "y = np.linalg.inv(x) \n",
    "print (x) \n",
    "print (y) \n",
    "\n",
    "print()\n",
    "\n",
    "# determinant of a matrix\n",
    "a = np.array([[1,2], [3,4]]) \n",
    "print (a)\n",
    "print (np.linalg.det(a))\n",
    "print()\n",
    "\n",
    "b = np.array([[6,1,1], [4, -2, 5], [2,8,7]]) \n",
    "print (b) \n",
    "print (np.linalg.det(b))"
   ]
  },
  {
   "cell_type": "code",
   "execution_count": null,
   "metadata": {},
   "outputs": [],
   "source": []
  }
 ],
 "metadata": {
  "kernelspec": {
   "display_name": "Python 3",
   "language": "python",
   "name": "python3"
  },
  "language_info": {
   "codemirror_mode": {
    "name": "ipython",
    "version": 3
   },
   "file_extension": ".py",
   "mimetype": "text/x-python",
   "name": "python",
   "nbconvert_exporter": "python",
   "pygments_lexer": "ipython3",
   "version": "3.7.3"
  }
 },
 "nbformat": 4,
 "nbformat_minor": 2
}
